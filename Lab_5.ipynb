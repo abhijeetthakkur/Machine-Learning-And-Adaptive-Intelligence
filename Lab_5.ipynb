{
 "cells": [
  {
   "cell_type": "markdown",
   "metadata": {},
   "source": [
    "# Generalization: Model Validation\n",
    "\n",
    "### 27th October 2015 Neil D. Lawrence"
   ]
  },
  {
   "cell_type": "markdown",
   "metadata": {},
   "source": [
    "If we had to summarise the objectives of machine learning in one word, a very good candidate for that word would be *generalization*. What is generalization? From a human perspective it might be summarised as the ability to take lessons learned in one domain and apply them to another domain. If we accept the definition given in the first session for machine learning, \n",
    "$$\n",
    "\\text{data} + \\text{model} \\xrightarrow{\\text{compute}} \\text{prediction}\n",
    "$$\n",
    "then we see that without a model we can't generalise: we only have data. Data is fine for answering very specific questions, like \"Who won the Olympic Marathon in 2012?\", because we have that answer stored, however, we are not given the answer to many other questions. For example, Alan Turing was a formidable marathon runner, in 1946 he ran a time 2 hours 46 minutes (just under four minutes per kilometer, faster than most of the other [Endcliffe Park Run](http://www.parkrun.org.uk/sheffieldhallam/) runners can do 5 km). What is the probability he would have won an Olympics if one had been held in 1946?  \n",
    "![Alan Turing, Times in the Times](http://www.turing.org.uk/turing/pi2/times2.gif)![Alan Turing running in 1946](http://www.turing.org.uk/turing/pi2/run.jpg)\n",
    "<center>*Alan Turing, in 1946 he was only 11 minutes slower than the winner of the 1948 games. Would he have won a hypothetical games held in 1946? Source: [Alan Turing Internet Scrapbook](http://www.turing.org.uk/scrapbook/run.html).*</center>\n",
    "To answer this question we need to generalize, but before we formalize the concept of generalization let's introduce some formal representation of what it means to generalize in machine learning.\n",
    "\n",
    "### Expected Loss\n",
    "\n",
    "Our objective function so far has been the negative log likelihood, which we have minimized (via the sum of squares error) to obtain our model. However, there is an alternative perspective on an objective function, that of a *loss function*. A loss function is a cost function associated with the penalty you might need to pay for a particular incorrect decision. One approach to machine learning involves specifying a loss function and considering how much a particular model is likely to cost us across its lifetime. We can represent this with an expectation. If our loss function is given as $L(y, x, \\mathbf{w})$ for a particular model that predicts $y$ given $x$ and $\\mathbf{w}$ then we are interested in minimizing the expected loss under the likely distribution of $y$ and $x$. To understand this formally we define the *true* distribution of the data samples, $y$, $x$. This is a very special distribution that we don't have access to very often, and to represent that we define it with a special letter 'P', $\\mathbb{P}(y, x)$. If we genuinely pay $L(y, x, \\mathbf{w})$ for every mistake we make, and the future test data is genuinely drawn from $\\mathbb{P}(y, x)$ then we can define our expected loss, or risk, to be,\n",
    "$$\n",
    "R(\\mathbf{w}) = \\int L(y, x, \\mathbf{w}) \\mathbb{P}(y, x) \\text{d}y \\text{d}x.\n",
    "$$\n",
    "Of course, in practice, this value can't be computed *but* it serves as a reminder of what it is we are aiming to minimize and under certain circumstances it can be approximated.\n",
    "\n",
    "### Sample Based Approximations\n",
    "\n",
    "A sample based approximation to an expectation involves replacing the true expectation with a sum over samples from the distribution. \n",
    "$$\n",
    "\\int f(z) p(z) \\text{d}y \\text{d}z\\approx \\frac{1}{s}\\sum_{i=1}^s f(z_i).\n",
    "$$\n",
    "if $\\{z_i\\}_{i=1}^s$ are a set of $s$ independent and identically distributed samples from the distribution $p(z)$. This approximation becomes better for larger $s$, although the *rate of convergence* to the true integral will be very dependent on the distribution $p(z)$ *and* the function $f(z)$. \n",
    "\n",
    "That said, this means we can approximate our true integral with the sum,\n",
    "$$\n",
    "R(\\mathbf{w}) \\approx \\frac{1}{n}\\sum_{i=1}^n L(y_i, x_i, \\mathbf{w}),\n",
    "$$\n",
    "if $y_i$ and $x_i$ are independent samples from the true distribution $\\mathbb{P}(y, x)$. Minimizing this sum directly is known as *empirical risk minimization*. The sum of squares error we have been using can be recovered for this case by considering a *squared loss*,\n",
    "$$\n",
    "L(y, x, \\mathbf{w}) = (y-\\mathbf{w}^\\top\\boldsymbol{\\phi}(x))^2\n",
    "$$\n",
    "which gives an empirical risk of the form\n",
    "$$\n",
    "R(\\mathbf{w}) \\approx \\frac{1}{n} \\sum_{i=1}^n (y_i - \\mathbf{w}^\\top \\boldsymbol{\\phi}(x_i))^2\n",
    "$$\n",
    "which up to the constant $\\frac{1}{n}$ is identical to the objective function we have been using so far.\n",
    "\n",
    "\n",
    "### Estimating Risk through Validation\n",
    "\n",
    "Unfortunately, minimising the empirial risk only guarantees something about our performance on the training data. If we don't have enough data for the approximation to the risk to be valid, then we can end up performing significantly worse on test data. Fortunately, we can also estimate the risk for test data through estimating the risk for unseen data.\n",
    "\n",
    "The main trick here is to 'hold out' a portion of our data from training and use the models performance on that sub-set of the data as a proxy for the true risk. This data is known as 'validation' data. It contrasts with test data, because it's values are known at the model design time. However, in contrast to test data we don't use it to fit our model. This means that it doesn't exhibit the same bias that the empirical risk does when estimating the true risk.\n",
    "\n",
    "In this lab we will explore techniques for model selection that make use of validation data. Data that isn't seen by the model in the learning (or fitting) phase, but is used to *validate* our choice of model from amongst the different designs we have selected.\n",
    "\n",
    "In machine learning, we are looking to minimise the value of our objective function $E$ with respect to its parameters $\\mathbf{w}$. We do this by considering our training data. We minimize the value of the objective function as it's observed at each training point. However we are really interested in how the model will perform on future data. For evaluating that we choose to *hold out* a portion of the data for evaluating the quality of the model.\n",
    "\n",
    "We will review the different methods of model selection on the Olympics marathon data. Firstly we import the olympics data. "
   ]
  },
  {
   "cell_type": "code",
   "execution_count": 91,
   "metadata": {},
   "outputs": [
    {
     "data": {
      "text/plain": [
       "(27, 1)"
      ]
     },
     "execution_count": 91,
     "metadata": {},
     "output_type": "execute_result"
    }
   ],
   "source": [
    "import numpy as np\n",
    "import pods\n",
    "data = pods.datasets.olympic_marathon_men()\n",
    "x = data['X']\n",
    "y = data['Y']\n",
    "x.shape"
   ]
  },
  {
   "cell_type": "markdown",
   "metadata": {},
   "source": [
    "We can plot them to check that they've loaded in correctly.\n"
   ]
  },
  {
   "cell_type": "code",
   "execution_count": 92,
   "metadata": {},
   "outputs": [
    {
     "data": {
      "text/plain": [
       "[<matplotlib.lines.Line2D at 0x1d810825128>]"
      ]
     },
     "execution_count": 92,
     "metadata": {},
     "output_type": "execute_result"
    },
    {
     "data": {
      "image/png": "[encoded data removed]",
      "text/plain": [
       "<Figure size 432x288 with 1 Axes>"
      ]
     },
     "metadata": {},
     "output_type": "display_data"
    }
   ],
   "source": [
    "%matplotlib inline\n",
    "import pylab as plt\n",
    "plt.plot(x, y, 'rx')"
   ]
  },
  {
   "cell_type": "markdown",
   "metadata": {},
   "source": [
    "## Hold Out Validation\n",
    "\n",
    "The first thing we'll do is fit a standard linear model to the data. We recall from previous lectures and lab classes that to do this we need to solve the system\n",
    "$$\n",
    "\\boldsymbol{\\Phi}^\\top \\boldsymbol{\\Phi} \\mathbf{w} = \\boldsymbol{\\Phi}^\\top \\mathbf{y}\n",
    "$$\n",
    "for $\\mathbf{w}$  and use the resulting vector to make predictions at the training points and test points,\n",
    "$$\n",
    "\\mathbf{f} = \\boldsymbol{\\Phi} \\mathbf{w}.\n",
    "$$\n",
    "The prediction function can be used to compute the objective function,\n",
    "$$\n",
    "E(\\mathbf{w}) = \\sum_{i}^n (y_i - \\mathbf{w}^\\top\\phi(\\mathbf{x}_i))^2\n",
    "$$\n",
    "by substituting in the prediction in vector form we have\n",
    "$$\n",
    "E(\\mathbf{w}) =  (\\mathbf{y} - \\mathbf{f})^\\top(\\mathbf{y} - \\mathbf{f})\n",
    "$$"
   ]
  },
  {
   "cell_type": "markdown",
   "metadata": {},
   "source": [
    "### Assignment Question 1\n",
    "\n",
    "In this question you will construct some flexible general code for fitting linear models.\n",
    "\n",
    "Create a python function that computes $\\boldsymbol{\\Phi}$ for the linear basis,\n",
    "$$\\boldsymbol{\\Phi} = \\begin{bmatrix} \\mathbf{x} & \\mathbf{1}\\end{bmatrix}$$\n",
    "Name your function `linear`. `Phi` should be in the form of a *design matrix* and `x` should be in the form of a `numpy` two dimensional array with $n$ rows and 1 column\n",
    "Calls to your function should be in the following form:\n",
    "\n",
    "```python\n",
    "Phi = linear(x)\n",
    "```\n",
    "\n",
    "Create a python function that accepts, as arguments, a python function that defines a basis (like the one you've just created called `linear`) as well as a set of inputs and a vector of parameters. Your new python function should return a prediction. Name your function `prediction`. The return value `f` should be a two dimensional `numpy` array with $n$ rows and $1$ column, where $n$ is the number of data points. Calls to your function should be in the following form:\n",
    "\n",
    "```python\n",
    "f = prediction(w, x, linear)\n",
    "```\n",
    "\n",
    "Create a python function that computes the sum of squares objective function (or error function). It should accept your input data (or covariates) and target data (or response variables) and your parameter vector `w` as arguments. It should also accept a python function that represents the basis. Calls to your function should be in the following form:\n",
    "\n",
    "```python\n",
    "e = objective(w, x, y, linear)\n",
    "```\n",
    "\n",
    "Create a function that solves the linear system for the set of parameters that minimizes the sum of squares objective. It should accept input data, target data and a python function for the basis as the inputs. Calls to your function should be in the following form:\n",
    "\n",
    "```python\n",
    "w = fit(x, y, linear)\n",
    "```\n",
    "\n",
    "Fit a linear model to the olympic data using these functions and plot the resulting prediction between 1890 and 2020. Set the title of the plot to be the error of the fit on the *training data*.\n",
    "\n",
    "*15 marks*"
   ]
  },
  {
   "cell_type": "code",
   "execution_count": 93,
   "metadata": {},
   "outputs": [
    {
     "name": "stdout",
     "output_type": "stream",
     "text": [
      "Error [1.97998377]\n"
     ]
    },
    {
     "data": {
      "image/png": "[encoded data removed]",
      "text/plain": [
       "<Figure size 432x288 with 1 Axes>"
      ]
     },
     "metadata": {},
     "output_type": "display_data"
    }
   ],
   "source": [
    "#### Question 1 Answer Code\n",
    "# Write code for you answer to this question in this box\n",
    "# Do not delete these comments, otherwise you will get zero for this answer.\n",
    "# Make sure your code has run and the answer is correct *before* submitting your notebook for marking.\n",
    "\n",
    "\n",
    "#impoting library\n",
    "\n",
    "import numpy as np\n",
    "import scipy as sp\n",
    "import pylab as plt\n",
    "\n",
    "\n",
    "#creating function linear.\n",
    "def linear(x): \n",
    "    Basis = np.hstack([np.ones((x.shape[0], 1)), x])\n",
    "    return Basis\n",
    "\n",
    "# creating function of fit, seeking help from assignment 3 from solution with QR decomposition.  \n",
    "def fit(x,y,func):\n",
    "    Phi = func(x)\n",
    "    Q, R = np.linalg.qr(Phi)\n",
    "    w = sp.linalg.solve_triangular(R, np.dot(Q.T, y)) \n",
    "    return w\n",
    "# creating Prediction function \n",
    "def prediction(w,x,func):\n",
    "    Phi = func(x)\n",
    "    f = np.dot(Phi, w)\n",
    "    return f\n",
    "#Objective function\n",
    "def objective(w,x,y,func):\n",
    "    Phi = func(x)\n",
    "    Y_prediction=np.matmul(Phi,w)\n",
    "    error= Y_prediction-y\n",
    "    square_of_error = np.square(error)\n",
    "    sum_error=sum(square_of_error)\n",
    "    return sum_error\n",
    "\n",
    "w = fit(x,y,linear)\n",
    "f = prediction(w,x,linear)\n",
    "e = objective(w,x,y,linear)\n",
    "print(\"Error\",e)\n",
    "\n",
    "#to plot the error on the training data\n",
    "\n",
    "plt.title(\"The error of the fit on the training data\")\n",
    "plt.plot(x, y, 'b^', label = 'Given Data')\n",
    "plt.plot(x,f,'g',label='Predicted Data')\n",
    "plt.legend()\n",
    "plt.show()\n"
   ]
  },
  {
   "cell_type": "markdown",
   "metadata": {},
   "source": [
    "## Polynomial Fit: Training Error\n",
    "\n",
    "The next thing we'll do is consider a quadratic fit. We will compute the training error for the two fits.\n"
   ]
  },
  {
   "cell_type": "markdown",
   "metadata": {},
   "source": [
    "### Assignment Question 2\n",
    "\n",
    "In this question we extend the code above to a non-linear basis (a quadratic function).\n",
    "\n",
    "Start by creating a python-function called `quadratic`. It should compute the quadratic basis.\n",
    "$$\\boldsymbol{\\Phi} = \\begin{bmatrix} \\mathbf{1} & \\mathbf{x} & \\mathbf{x}^2\\end{bmatrix}$$\n",
    "It should be called in the following form:\n",
    "```python\n",
    "Phi = quadratic(x)\n",
    "```\n",
    "Use this to compute the quadratic fit for the model, again plotting the result titled by the error.\n",
    "\n",
    "*10 marks*"
   ]
  },
  {
   "cell_type": "code",
   "execution_count": 94,
   "metadata": {},
   "outputs": [
    {
     "name": "stdout",
     "output_type": "stream",
     "text": [
      "Error [1.1505154]\n"
     ]
    },
    {
     "data": {
      "image/png": "[encoded data removed]",
      "text/plain": [
       "<Figure size 432x288 with 1 Axes>"
      ]
     },
     "metadata": {},
     "output_type": "display_data"
    }
   ],
   "source": [
    "#### Question 2 Answer Code\n",
    "# Write code for you answer to this question in this box\n",
    "# Do not delete these comments, otherwise you will get zero for this answer.\n",
    "# Make sure your code has run and the answer is correct *before* submitting your notebook for marking.\n",
    "\n",
    "#impoting library\n",
    "import numpy as np\n",
    "import scipy as sp\n",
    "import pylab as plt\n",
    "\n",
    "\n",
    "#creating function of quadratic \n",
    "\n",
    "def quadratic(x):\n",
    "    QB = np.hstack([np.ones((x.shape[0], 1)), x, x**2])\n",
    "    return QB\n",
    "\n",
    "# creating function of fit, seeking help from assignment 3 from solution with QR decomposition.  \n",
    "def fit(x,y,func):\n",
    "    Phi = func(x)\n",
    "    Q, R = np.linalg.qr(Phi)\n",
    "    w = sp.linalg.solve_triangular(R, np.dot(Q.T, y)) \n",
    "    return w\n",
    "w = fit(x,y,quadratic)\n",
    "\n",
    "# creating Prediction function \n",
    "def prediction(w,x,func):\n",
    "    Phi = func(x)\n",
    "    f = np.dot(Phi, w)\n",
    "    return f\n",
    "f = prediction(w,x,quadratic)\n",
    "\n",
    "#Objective function\n",
    "def objective(w,x,y,func):\n",
    "    Phi = func(x)\n",
    "    Y_prediction=np.matmul(Phi,w)\n",
    "    error= Y_prediction-y\n",
    "    square_of_error = np.square(error)\n",
    "    sum_error=sum(square_of_error)\n",
    "    return sum_error\n",
    "e = objective(w,x,y,quadratic)\n",
    "print(\"Error\",e)\n",
    "\n",
    "#to plot the error on the training data\n",
    "plt.plot(x, y, 'b^', label = 'Given Data')\n",
    "plt.plot(x,f,'g',label='Predicted Data')\n",
    "plt.title(\"The error of the fit on the training data\")\n",
    "plt.legend()\n",
    "plt.show()\n",
    "\n"
   ]
  },
  {
   "cell_type": "markdown",
   "metadata": {},
   "source": [
    "### Hold Out Data\n",
    "\n",
    "You have a conclusion as to which model fits best under the training error, but how do the two models perform in terms of validation? In this section we consider *hold out* validation. In hold out validation we remove a portion of the training data for *validating* the model on. The remaining data is used for fitting the model (training). Because this is a time series prediction, it makes sense for us to hold out data at the end of the time series. This means that we are validating on future predictions. We will hold out data from after 1980 and fit the model to the data before 1980. "
   ]
  },
  {
   "cell_type": "code",
   "execution_count": 74,
   "metadata": {},
   "outputs": [],
   "source": [
    "# select indices of data to 'hold out'\n",
    "indices_hold_out = np.flatnonzero(x>1980)\n",
    "\n",
    "# Create a training set\n",
    "x_train = np.delete(x, indices_hold_out, axis=0)\n",
    "y_train = np.delete(y, indices_hold_out, axis=0)\n",
    "\n",
    "\n",
    "# Create a hold out set\n",
    "x_valid = np.take(x, indices_hold_out, axis=0)\n",
    "y_valid = np.take(y, indices_hold_out, axis=0)"
   ]
  },
  {
   "cell_type": "markdown",
   "metadata": {},
   "source": [
    "### Assignment Question 3\n",
    "\n",
    "For both the linear and quadratic models, fit the model to the data up until 1980 and then compute the error on the held out data (from 1980 onwards). Which model performs better on the validation data?\n",
    "\n",
    "*10 marks*"
   ]
  },
  {
   "cell_type": "code",
   "execution_count": 95,
   "metadata": {},
   "outputs": [
    {
     "name": "stdout",
     "output_type": "stream",
     "text": [
      "[0.06331617]\n",
      "[0.21743774]\n"
     ]
    }
   ],
   "source": [
    "#### Question 3 Answer Code\n",
    "# Write code for you answer to this question in this box\n",
    "# Do not delete these comments, otherwise you will get zero for this answer.\n",
    "# Make sure your code has run and the answer is correct *before* submitting your notebook for marking.\n",
    "\n",
    "# training data computation\n",
    "\n",
    "#Quadratic \n",
    "#calling function from above in all the below codes.\n",
    "#Quadratic is being called from 2nd question whereas linear from 1st question. \n",
    "\n",
    "Phi = quadratic(x_train)\n",
    "w = fit(x_train,y_train,quadratic)\n",
    "f = prediction(w,x_train,quadratic)\n",
    "e = objective(w,x_train,y_train,quadratic)\n",
    "\n",
    "#Linear\n",
    "\n",
    "Phi = linear(x_train)\n",
    "w=fit(x_train,y_train,linear)\n",
    "f=prediction(w,x_train,linear)\n",
    "e=objective(w,x_train,y_train,linear)\n",
    "\n",
    "#computation on validation data.\n",
    "\n",
    "#Quadratic\n",
    "\n",
    "Phi = quadratic(x_valid)\n",
    "w=fit(x_train,y_train,quadratic)\n",
    "f=prediction(w,x_valid,quadratic)\n",
    "e=objective(w,x_valid,y_valid,quadratic)\n",
    "print(e) \n",
    "\n",
    "#Linear\n",
    "\n",
    "Phi = linear(x_valid)\n",
    "w=fit(x_train,y_train,linear)\n",
    "f=prediction(w,x_valid,linear)\n",
    "e=objective(w,x_valid,y_valid,linear)\n",
    "print(e)\n"
   ]
  },
  {
   "cell_type": "code",
   "execution_count": null,
   "metadata": {},
   "outputs": [],
   "source": [
    "#Quadratic performs better than linear on the validation data."
   ]
  },
  {
   "cell_type": "markdown",
   "metadata": {},
   "source": [
    "### Richer Basis Set\n",
    "\n",
    "Now we have an approach for deciding which model to retain, we can consider the entire family of polynomial bases, with arbitrary degrees.  "
   ]
  },
  {
   "cell_type": "markdown",
   "metadata": {},
   "source": [
    "### Assignment Question 4\n",
    "\n",
    "Now we are going to build a more sophisticated form of basis function, one that can accept arguments to its inputs (similar to those we used in the lab for week 4). Here we will start with a polynomial basis.\n",
    "\n",
    "```python\n",
    "def polynomial(x, degree, loc, scale):\n",
    "    degrees = np.arange(degree+1)\n",
    "    return ((x-loc)/scale)**degrees\n",
    "```\n",
    "The basis as we've defined it has three arguments as well as the input. The degree of the polynomial, the scale of the polynomial and the offset. These arguments need to be passed to the basis functions whenever they are called. Modify your code to pass these additional arguments to the python function for creating the basis. Do this for each of your functions `predict`, `fit` and `objective`. You will find `*args` (or `**kwargs`) useful.\n",
    "\n",
    "Write code that tries to fit different models to the data with polynomial basis. Use a maximum degree for your basis from 0 to 17. For each polynomial store the *hold out validation error* and the *training error*. When you have finished the computation plot the hold out error for your models and the training error for your p. When computing your polynomial basis use `offset=1956.` and `scale=120.` to ensure that the data is mapped (roughly) to the -1, 1 range.\n",
    "\n",
    "Which polynomial has the minimum training error? Which polynomial has the minimum validation error?\n",
    "\n",
    "*25 marks*"
   ]
  },
  {
   "cell_type": "code",
   "execution_count": 99,
   "metadata": {},
   "outputs": [
    {
     "data": {
      "image/png": "[encoded data removed]",
      "text/plain": [
       "<Figure size 432x288 with 1 Axes>"
      ]
     },
     "metadata": {},
     "output_type": "display_data"
    },
    {
     "name": "stdout",
     "output_type": "stream",
     "text": [
      "[1.34719843e+00 2.17437736e-01 6.33161691e-02 4.37002809e-02\n",
      " 4.22380472e-02 4.38251919e-02 2.54585439e-01 6.44462945e-01\n",
      " 7.85120197e-01 1.12367530e+00 1.51306824e+00 2.39848683e+00\n",
      " 5.20895196e+00 8.91070978e+00 6.28415666e+00 3.43397003e+00\n",
      " 2.96563873e+00 4.19728465e+02]\n",
      "4\n"
     ]
    },
    {
     "data": {
      "image/png": "[encoded data removed]",
      "text/plain": [
       "<Figure size 432x288 with 1 Axes>"
      ]
     },
     "metadata": {},
     "output_type": "display_data"
    },
    {
     "name": "stdout",
     "output_type": "stream",
     "text": [
      "[6.43861183 1.77267296 1.09478037 1.04567402 1.04468511 1.03536682\n",
      " 0.75957904 0.38241392 0.26156425 0.18181886 0.1569626  0.10761096\n",
      " 0.05198126 0.03587865 0.02598939 0.02297363 0.0229674  0.02164542]\n",
      "17\n"
     ]
    }
   ],
   "source": [
    "#### Question 4 Answer Code\n",
    "# Write code for you answer to this question in this box\n",
    "# Do not delete these comments, otherwise you will get zero for this answer.\n",
    "# Make sure your code has run and the answer is correct *before* submitting your notebook for marking.\n",
    "\n",
    "#impoting library\n",
    "\n",
    "import numpy as np\n",
    "import scipy as sp\n",
    "import pylab as plt\n",
    "\n",
    "#Creating array for storing value. \n",
    "\n",
    "training_error = []\n",
    "validation_error = []\n",
    "#training_error = np.zeros(27,1)\n",
    "#validation_error = np.zeros(27,1)\n",
    "#creating function polynomial.\n",
    "def polynomial(x, degree, loc, scale):\n",
    "    degrees = np.arange(degree+1)\n",
    "    return ((x-loc)/scale)**degrees\n",
    "\n",
    "# creating function of fit.  \n",
    "def fit(x,y,func, **kwargs):\n",
    "    Phi = func(x, **kwargs)\n",
    "    Q, R = np.linalg.qr(Phi)\n",
    "    w = sp.linalg.solve_triangular(R, np.dot(Q.T, y)) \n",
    "    return w\n",
    "\n",
    "# creating Prediction function \n",
    "def prediction(w,x,func, **kwargs):\n",
    "    Phi = func(x, **kwargs)\n",
    "    f = np.dot(Phi, w)\n",
    "    return f\n",
    "\n",
    "#Objective function\n",
    "def objective(w,x,y,func, **kwargs):\n",
    "    Phi = func(x, **kwargs)\n",
    "    Y_prediction=np.matmul(Phi,w)\n",
    "    error= Y_prediction-y\n",
    "    square_of_error = np.square(error) #squaring error\n",
    "    sum_error=sum(square_of_error)\n",
    "    return sum_error\n",
    "\n",
    "for j in range(18): #Using 'for' loop for increasing degree.  \n",
    "    \n",
    "    #Training Data\n",
    "    w=fit(x_train,y_train,polynomial,degree=j,loc = 1956,scale = 120)\n",
    "    f=prediction(w,x_train,polynomial,degree=j,loc = 1956,scale = 120)\n",
    "    e=objective(w,x_train,y_train,polynomial,degree=j,loc = 1956,scale = 120)\n",
    "    training_error = np.append(training_error,e)\n",
    "    \n",
    "    #Validation Data\n",
    "    f=prediction(w,x_valid,polynomial,degree =j,loc = 1956,scale = 120)\n",
    "    e=objective(w,x_valid,y_valid,polynomial,degree=j,loc = 1956,scale = 120)\n",
    "    validation_error=np.append(validation_error,e)\n",
    "    \n",
    "# Graph \n",
    "plt.plot(validation_error,label = 'Error in validation data')\n",
    "plt.legend()\n",
    "plt.show()\n",
    "\n",
    "#finding minimum error\n",
    "print(validation_error)\n",
    "print(list(validation_error).index(min(validation_error)))\n",
    "\n",
    "#Graph\n",
    "plt.plot(training_error,label = 'Error in Training data')\n",
    "plt.legend()\n",
    "plt.show()\n",
    "\n",
    "#finding minimum error\n",
    "print(training_error)\n",
    "print(list(training_error).index(min(training_error)))"
   ]
  },
  {
   "cell_type": "code",
   "execution_count": 99,
   "metadata": {},
   "outputs": [],
   "source": [
    "#As per the above values, 17th degree has minimum training error whereas 4nd degree has minimum validation error."
   ]
  },
  {
   "cell_type": "markdown",
   "metadata": {},
   "source": [
    "## Leave One Out Validation\n",
    "\n",
    "Hold out validation uses a portion of the data to hold out and a portion of the data to train on. There is always a compromise between how much data to hold out and how much data to train on. The more data you hold out, the better the estimate of your performance at 'run-time' (when the model is used to make predictions in real applications). However, by holding out more data, you leave less data to train on, so you have a better validation, but a poorer quality model fit than you could have had if you'd used all the data for training. Leave one out cross validation leaves as much data in the training phase as possible: you only take *one point* out for your validation set. However, if you do this for hold-out validation, then the quality of your validation error is very poor because you are testing the model quality on one point only. In *cross validation* the approach is to improve this estimate by doing more than one model fit. In *leave one out cross validation* you fit $n$ different models, where $n$ is the number of your data. For each model fit you take out one data point, and train the model on the remaining $n-1$ data points. You validate the model on the data point you've held out, but you do this $n$ times, once for each different model. You then take the *average* of all the $n$ badly estimated hold out validation errors. The average of this estimate is a good estimate of performance of those models on the test data. "
   ]
  },
  {
   "cell_type": "markdown",
   "metadata": {},
   "source": [
    "### Assignment Question 5\n",
    "\n",
    "Write code that computes the *leave one out* validation error for the olympic data and the polynomial basis. Use the functions you have created above: `objective`, `fit`, `polynomial`. Compute the *leave-one-out* cross validation error for basis functions containing a maximum degree from 0 to 17.\n",
    "\n",
    "*20 marks*"
   ]
  },
  {
   "cell_type": "code",
   "execution_count": 100,
   "metadata": {},
   "outputs": [],
   "source": [
    "#impoting library\n",
    " \n",
    "import numpy as np\n",
    "import scipy as sp\n",
    "import pylab as plt\n",
    "\n",
    "deg=18 #count of degrees\n",
    "data_point=27 #count of data points\n",
    "\n",
    "#Creating array for storing value.\n",
    "\n",
    "left_error=[]"
   ]
  },
  {
   "cell_type": "code",
   "execution_count": 101,
   "metadata": {},
   "outputs": [
    {
     "name": "stdout",
     "output_type": "stream",
     "text": [
      "Left error for polynomial is 0.3084218581905888 with degree 0\n",
      "Left error for polynomial is 0.09060070816797527 with degree 1\n",
      "Left error for polynomial is 0.05794992394529426 with degree 2\n",
      "Left error for polynomial is 0.05980705068470992 with degree 3\n",
      "Left error for polynomial is 0.06927418752471835 with degree 4\n",
      "Left error for polynomial is 0.08836110587080216 with degree 5\n",
      "Left error for polynomial is 0.08192830192026969 with degree 6\n",
      "Left error for polynomial is 0.05811513386611211 with degree 7\n",
      "Left error for polynomial is 0.12260215748823916 with degree 8\n",
      "Left error for polynomial is 0.3717879264798442 with degree 9\n",
      "Left error for polynomial is 1.0449075851488405 with degree 10\n",
      "Left error for polynomial is 2.564404654475906 with degree 11\n",
      "Left error for polynomial is 5.459390485623431 with degree 12\n",
      "Left error for polynomial is 8.319010740490416 with degree 13\n",
      "Left error for polynomial is 5.055256228638854 with degree 14\n",
      "Left error for polynomial is 31.79227988037344 with degree 15\n",
      "Left error for polynomial is 111.92585312408382 with degree 16\n",
      "Left error for polynomial is 447.8468363401597 with degree 17\n"
     ]
    }
   ],
   "source": [
    "#### Question 5 Answer Code\n",
    "# Write code for you answer to this question in this box\n",
    "# Do not delete these comments, otherwise you will get zero for this answer.\n",
    "# Make sure your code has run and the answer is correct *before* submitting your notebook for marking.\n",
    "\n",
    "for i in range(0,deg):\n",
    "    error = []\n",
    "    for j in range(0,data_point):\n",
    "        x_train = np.delete(x,j)\n",
    "        x_train = np.reshape(x_train,(data_point-1,1)) #here we are leaving one out so data_point-1 means 27-1=26.\n",
    "        y_train = np.delete(y,j)\n",
    "        y_train = np.reshape(y_train,(data_point-1,1)) #here we are leaving one out so data_point-1 means 27-1=26.\n",
    "        w = fit(x_train,y_train,polynomial,degree=i,loc = 1956,scale = 120)\n",
    "        e=objective(w,x[j],y[j],polynomial,degree = i,loc = 1956,scale = 120)\n",
    "        error = np.append(error,e)\n",
    "    error_sum=np.sum(error) #summation of error.\n",
    "    error_average=error_sum/len(error) #taking average of error.\n",
    "    print('Left error for polynomial is',error_average,'with degree',i)\n",
    "    left_error = np.append(left_error,error_average)"
   ]
  },
  {
   "cell_type": "markdown",
   "metadata": {},
   "source": [
    "## $k$-fold Cross Validation\n",
    "\n",
    "Leave one out cross validation produces a very good estimate of the performance at test time, and is particularly useful if you don't have a lot of data. In these cases you need to make as much use of your data for model fitting as possible, and having a large hold out data set (to validate model performance) can have a significant effect on the size of the data set you have to fit your model, and correspondingly, the complexity of the model you can fit. However, leave one out cross validation involves fitting $n$ models, where $n$ is your number of training data. For the olympics example, this is only 27 model fits, but in practice many data sets consist thousands or millions of data points, and fitting many millions of models for estimating validation error isn't really practical. One option is to return to *hold out* validation, but another approach is to perform $k$-fold cross validation. In $k$-fold cross validation you split your data into $k$ parts. Then you use $k-1$ of those parts for training, and hold out one part for validation. Just like we did for the hold out validation above. In *cross* validation, however, you repeat this process. You swap the part of the data you just used for validation back in to the training set and select another part for validation. You then fit the model to the new training data and validate on the portion of data you've just extracted. Each split of training/validation data is called a *fold* and since you do this process $k$ times, the procedure is known as $k$-fold cross validation. The term *cross* refers to the fact that you cross over your validation portion back into the training data every time you perform a fold.  "
   ]
  },
  {
   "cell_type": "code",
   "execution_count": 102,
   "metadata": {},
   "outputs": [
    {
     "name": "stdout",
     "output_type": "stream",
     "text": [
      "Degree of min error is 2\n"
     ]
    },
    {
     "data": {
      "image/png": "[encoded data removed]",
      "text/plain": [
       "<Figure size 432x288 with 1 Axes>"
      ]
     },
     "metadata": {},
     "output_type": "display_data"
    }
   ],
   "source": [
    "#Graph \n",
    "print('Degree of min error is',list(left_error).index(min(left_error)))\n",
    "plt.plot(left_error,label = 'Left error')\n",
    "plt.legend()\n",
    "plt.show()    "
   ]
  },
  {
   "cell_type": "markdown",
   "metadata": {},
   "source": [
    "### Assignment Question 6\n",
    "\n",
    "Perform $k$-fold cross validation on the olympic data with your polynomial basis. Use $k$ set to 5 (e.g. five fold cross validation). Do the different forms of validation select different models? Does five fold cross validation always select the same model?\n",
    "\n",
    "*20 marks*"
   ]
  },
  {
   "cell_type": "markdown",
   "metadata": {},
   "source": [
    "*Note*: The data doesn't divide into 5 equal size partitions for the five fold cross validation error. Don't worry about this too much. Two of the partitions will have an extra data point. You might find `np.random.permutation?` useful."
   ]
  },
  {
   "cell_type": "code",
   "execution_count": 106,
   "metadata": {},
   "outputs": [
    {
     "name": "stdout",
     "output_type": "stream",
     "text": [
      "1.587716733360202\n",
      "0.44903961996022196\n",
      "0.29414861839557077\n",
      "0.3162056153386719\n",
      "0.35907797758181237\n",
      "0.5308313336512672\n",
      "0.7276576693773457\n",
      "0.49074841226617066\n",
      "0.8116881702955485\n",
      "2.1943363550081827\n",
      "7.505104647987631\n",
      "57.97084795740138\n",
      "574.4034802376196\n",
      "271.4350550125957\n",
      "50.77671151535982\n",
      "494.3329255114916\n",
      "4568.3568418234245\n",
      "2829.9310129803393\n",
      "Degree of min error is 2\n"
     ]
    },
    {
     "data": {
      "image/png": "[encoded data removed]",
      "text/plain": [
       "<Figure size 864x288 with 1 Axes>"
      ]
     },
     "metadata": {},
     "output_type": "display_data"
    }
   ],
   "source": [
    "#### Question 6 Answer Code\n",
    "# Write code for you answer to this question in this box\n",
    "# Do not delete these comments, otherwise you will get zero for this answer.\n",
    "# Make sure your code has run and the answer is correct *before* submitting your notebook for marking.\n",
    "\n",
    "\n",
    "import numpy as np\n",
    "import scipy as sp\n",
    "import pylab as plt\n",
    "\n",
    "# to generate sets of x\n",
    "#np.random.seed(365)\n",
    "k=5\n",
    "error_sum_k = []\n",
    "start= np.random.permutation(data_point)\n",
    "spliting =np.split(start,[5,10,16,21,27])\n",
    "result_error= []\n",
    "for i in range(deg):\n",
    "    error_k = []\n",
    "    for j in range(0,k):\n",
    "        x_train = np.delete(x,spliting[j],axis=0)\n",
    "        y_train = np.delete(y,spliting[j],axis=0)\n",
    "        x_valid = np.take(x,spliting[j],axis=0)\n",
    "        y_valid = np.take(y,spliting[j],axis=0)\n",
    "        w = fit(x_train,y_train,polynomial,degree=i,loc = 1956,scale = 120)\n",
    "        e=objective(w,x_valid,y_valid,polynomial,degree =i,loc = 1956,scale = 120)\n",
    "        error_k = np.append(error_k, e)\n",
    "    error_sum_k=np.sum(error_k)\n",
    "    error_average_k=error_sum_k/k  \n",
    "    result_error.append(error_average_k)\n",
    "    print(error_average_k)\n",
    "    \n",
    "    \n",
    "print('Degree of min error is',list(result_error).index(min(result_error)))    \n",
    "fig, ax = plt.subplots(figsize=(12,4))\n",
    "ax.set_xlim(0,17)    \n",
    "plt.plot(result_error, label = 'Averge Error')\n",
    "plt.legend()\n",
    "plt.show()\n"
   ]
  },
  {
   "cell_type": "markdown",
   "metadata": {},
   "source": [
    "As we analysed the values, we say that the error for Leave-one-out cross validation for polynomial is minimum at degree 2 whereas the error for K-Fold cross validation for polynomial is minimum at degree 2. Therefore, we can conclude from the observation that different form of validation selects same model if data is not randomised.Now here in fivefold cross validation, data has randomised, so we will get different values of error every time we run the code. Hence, it will submit different model.\n"
   ]
  }
 ],
 "metadata": {
  "kernelspec": {
   "display_name": "Python [default]",
   "language": "python",
   "name": "python3"
  },
  "language_info": {
   "codemirror_mode": {
    "name": "ipython",
    "version": 3
   },
   "file_extension": ".py",
   "mimetype": "text/x-python",
   "name": "python",
   "nbconvert_exporter": "python",
   "pygments_lexer": "ipython3",
   "version": "3.6.5"
  }
 },
 "nbformat": 4,
 "nbformat_minor": 1
}
